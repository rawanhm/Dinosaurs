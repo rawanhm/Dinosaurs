{
 "cells": [
  {
   "cell_type": "markdown",
   "metadata": {
    "editable": true
   },
   "source": [
    "# What You are Building\n",
    "\n",
    "You will build an infographic derived from user input and provided data.\n",
    "\n",
    "When the page loads, the user will be asked to provide information, including their name.\n",
    "\n",
    "The form should include a \"Compare me\" button. When the button is clicked, the form is no longer visible and a 3x3 grid of tiles appears with 7 dinosaur tiles, 1 bird tile and one human tile in the center.\n",
    "\n",
    "Each animal tile will contain:\n",
    "\n",
    "- Species\n",
    "- Image\n",
    "- Random fact (except for the bird tile which should always state \"All birds are Dinosaurs\"\n",
    "\n",
    "The human's tile will contain:\n",
    "\n",
    "- Name\n",
    "- Image\n",
    "\n",
    "When the screen is refreshed, different facts should appear on the non-bird animal tiles.\n",
    "\n",
    "## Project Requirements\n",
    "\n",
    "To complete this project, your code must:\n",
    "\n",
    "- Contain a class and all necessary objects\n",
    "- Contain at least 3 methods for comparing dinosaurs to the human\n",
    "- Get user data from the DOM\n",
    "- Append tiles with object data to DOM\n",
    "\n",
    "See more details in the [Project Rubric](https://review.udacity.com/#!/rubrics/2786/view)\n",
    "\n",
    "## Running Your Code\n",
    "\n",
    "To display your code in the browser you'll need to start the server:"
   ]
  },
  {
   "cell_type": "markdown",
   "metadata": {
    "editable": true,
    "ulab": {
     "buttons": {
      "ulab-button-9babdf34": {
       "bashCommand": "node server.js",
       "filesToOpen": [],
       "isPreviewButton": false,
       "runInBackground": false,
       "style": "primary",
       "text": "START SERVER",
       "toggleOffText": "HIDE SOLUTION",
       "toggleOnText": "SHOW SOLUTION"
      }
     }
    }
   },
   "source": [
    "<button id=\"ulab-button-9babdf34\" class=\"ulab-btn--primary\"></button>"
   ]
  },
  {
   "cell_type": "markdown",
   "metadata": {
    "editable": true
   },
   "source": [
    "Then open the preview window:"
   ]
  },
  {
   "cell_type": "markdown",
   "metadata": {
    "editable": true,
    "ulab": {
     "buttons": {
      "ulab-button-56453ab2": {
       "bashCommand": "",
       "filesToOpen": [],
       "isPreviewButton": true,
       "runInBackground": false,
       "style": "primary",
       "text": "OPEN PREVIEW",
       "toggleOffText": "HIDE SOLUTION",
       "toggleOnText": "SHOW SOLUTION"
      }
     }
    }
   },
   "source": [
    "<button id=\"ulab-button-56453ab2\" class=\"ulab-btn--primary\"></button>"
   ]
  },
  {
   "cell_type": "markdown",
   "metadata": {
    "editable": true
   },
   "source": [
    "To stop the server, click CTRL-C in the terminal."
   ]
  }
 ],
 "metadata": {
  "kernelspec": {
   "display_name": "Python 3",
   "language": "python",
   "name": "python3"
  },
  "language_info": {
   "codemirror_mode": {
    "name": "ipython",
    "version": 3
   },
   "file_extension": ".py",
   "mimetype": "text/x-python",
   "name": "python",
   "nbconvert_exporter": "python",
   "pygments_lexer": "ipython3",
   "version": "3.6.3"
  },
  "ulab_nb_type": "guided"
 },
 "nbformat": 4,
 "nbformat_minor": 4
}
